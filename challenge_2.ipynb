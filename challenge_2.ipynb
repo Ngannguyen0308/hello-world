{
 "cells": [
  {
   "cell_type": "code",
   "execution_count": 33,
   "source": [
    "from PIL import Image\r\n",
    "import numpy as np \r\n",
    "import os\r\n",
    "import sys\r\n",
    "import csv\r\n",
    "import glob\r\n",
    "import cv2\r\n"
   ],
   "outputs": [],
   "metadata": {}
  },
  {
   "cell_type": "code",
   "execution_count": 41,
   "source": [
    "#Useful function\r\n",
    "def createFileList(myDir, format='.jpg'):\r\n",
    "    fileList = []\r\n",
    "    print(myDir)\r\n",
    "    for root, dirs, files in os.walk(myDir, topdown=False):\r\n",
    "        for name in files:\r\n",
    "            if name.endswith(format):\r\n",
    "                fullName = os.path.join(root, name)\r\n",
    "                fileList.append(fullName)\r\n",
    "    return fileList"
   ],
   "outputs": [],
   "metadata": {}
  },
  {
   "cell_type": "code",
   "execution_count": 44,
   "source": [
    "# load the original image\r\n",
    "myFileList = createFileList(\"D:\\IntroCSE\\challenge 2\")\r\n",
    "\r\n",
    "for file in myFileList:\r\n",
    "    print(file)\r\n",
    "    img_file = Image.open(file)\r\n",
    "    # img_file.show()"
   ],
   "outputs": [
    {
     "output_type": "stream",
     "name": "stdout",
     "text": [
      "D:\\IntroCSE\\challenge 2\n",
      "D:\\IntroCSE\\challenge 2\\answer sheet.jpg\n",
      "D:\\IntroCSE\\challenge 2\\answer.jpg\n"
     ]
    }
   ],
   "metadata": {}
  },
  {
   "cell_type": "code",
   "execution_count": 47,
   "source": [
    "# get original image parameters...\r\n",
    "width, height = img_file.size\r\n",
    "format = img_file.format\r\n",
    "mode = img_file.mode"
   ],
   "outputs": [],
   "metadata": {}
  },
  {
   "cell_type": "code",
   "execution_count": 49,
   "source": [
    "# Make image Greyscale\r\n",
    "img_grey = img_file.convert('L')\r\n",
    "#img_grey.save('result.png')\r\n",
    "#img_grey.show()"
   ],
   "outputs": [],
   "metadata": {}
  },
  {
   "cell_type": "code",
   "execution_count": 52,
   "source": [
    "# Save Greyscale values\r\n",
    "value = np.asarray(img_grey.getdata(), dtype=np.int).reshape((img_grey.size[1], img_grey.size[0]))\r\n",
    "value = value.flatten()\r\n",
    "print(value)\r\n",
    "with open(\"student.csv\", 'a') as f:\r\n",
    "    writer = csv.writer(f)\r\n",
    "    writer.writerow(value)"
   ],
   "outputs": [
    {
     "output_type": "stream",
     "name": "stderr",
     "text": [
      "<ipython-input-52-9cb089b19181>:2: DeprecationWarning: `np.int` is a deprecated alias for the builtin `int`. To silence this warning, use `int` by itself. Doing this will not modify any behavior and is safe. When replacing `np.int`, you may wish to use e.g. `np.int64` or `np.int32` to specify the precision. If you wish to review your current use, check the release note link for additional information.\n",
      "Deprecated in NumPy 1.20; for more details and guidance: https://numpy.org/devdocs/release/1.20.0-notes.html#deprecations\n",
      "  value = np.asarray(img_grey.getdata(), dtype=np.int).reshape((img_grey.size[1], img_grey.size[0]))\n"
     ]
    },
    {
     "output_type": "stream",
     "name": "stdout",
     "text": [
      "[255 255 255 ... 255 255 255]\n"
     ]
    }
   ],
   "metadata": {}
  }
 ],
 "metadata": {
  "orig_nbformat": 4,
  "language_info": {
   "name": "python",
   "version": "3.8.8",
   "mimetype": "text/x-python",
   "codemirror_mode": {
    "name": "ipython",
    "version": 3
   },
   "pygments_lexer": "ipython3",
   "nbconvert_exporter": "python",
   "file_extension": ".py"
  },
  "kernelspec": {
   "name": "python3",
   "display_name": "Python 3.8.8 64-bit ('base': conda)"
  },
  "interpreter": {
   "hash": "111fc2b94a257ed4840542c3bd9dace8d701c5156006f7bd3b4de63054408d78"
  }
 },
 "nbformat": 4,
 "nbformat_minor": 2
}